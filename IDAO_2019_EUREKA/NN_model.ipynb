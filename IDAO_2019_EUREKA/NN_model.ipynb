{
 "cells": [
  {
   "cell_type": "code",
   "execution_count": 1,
   "metadata": {},
   "outputs": [],
   "source": [
    "import warnings\n",
    "warnings.filterwarnings('ignore')"
   ]
  },
  {
   "cell_type": "code",
   "execution_count": 2,
   "metadata": {},
   "outputs": [],
   "source": [
    "import torch, os\n",
    "import pandas as pd\n",
    "import numpy as np\n",
    "from sklearn.preprocessing import MinMaxScaler\n",
    "from sklearn.metrics import roc_auc_score\n",
    "from sklearn.model_selection import train_test_split\n",
    "import utils, scoring\n",
    "from torch.nn import BCEWithLogitsLoss\n",
    "from torch.optim import lr_scheduler\n",
    "from tqdm import tqdm\n",
    "from matplotlib import pyplot as plt\n",
    "%matplotlib inline\n",
    "from copy import deepcopy\n",
    "from torch.nn.functional import relu\n",
    "os.environ[\"CUDA_VISIBLE_DEVICES\"]= \"3\" "
   ]
  },
  {
   "cell_type": "markdown",
   "metadata": {},
   "source": [
    "# reading data"
   ]
  },
  {
   "cell_type": "code",
   "execution_count": 4,
   "metadata": {},
   "outputs": [
    {
     "name": "stdout",
     "output_type": "stream",
     "text": [
      "train shape (5445705, 67) test shape (726095, 65)\n",
      "train shape (5445705, 25) test shape (726095, 25)\n",
      "After concating train shape (5445705, 92) test shape (726095, 90)\n"
     ]
    }
   ],
   "source": [
    "DATA_PATH = \"../data\"\n",
    "train_df, test_df = utils.load_data_csv(DATA_PATH, utils.SIMPLE_FEATURE_COLUMNS)\n",
    "\n",
    "train_hit = pd.read_csv('../data/train_closest_hits_features.csv')\n",
    "test_hit = pd.read_csv('../data/test_closest_hits_features.csv')\n",
    "\n",
    "print ('train shape {} test shape {}'.format(train_df.shape, test_df.shape))\n",
    "print ('train shape {} test shape {}'.format(train_hit.shape, test_hit.shape))\n",
    "\n",
    "\n",
    "train_df = pd.concat([train_df, train_hit], axis=1)\n",
    "test_df = pd.concat([test_df, test_hit], axis=1)\n",
    "del train_hit, test_hit\n",
    "print ('After concating train shape {} test shape {}'.format(train_df.shape, test_df.shape))\n",
    "\n",
    "train_df.drop('Unnamed: 0', axis = 1, inplace=True)\n",
    "test_df.drop('Unnamed: 0', axis = 1, inplace=True)"
   ]
  },
  {
   "cell_type": "code",
   "execution_count": 28,
   "metadata": {},
   "outputs": [],
   "source": [
    "train_cols = [x.replace('[','').replace(']','') for x in train_df.columns.tolist() ]\n",
    "test_cols = [x.replace('[','').replace(']','') for x in test_df.columns.tolist() ]\n",
    "train_df.columns = train_cols\n",
    "test_df.columns = test_cols"
   ]
  },
  {
   "cell_type": "markdown",
   "metadata": {},
   "source": [
    "## rank gauss transformation"
   ]
  },
  {
   "cell_type": "code",
   "execution_count": 31,
   "metadata": {},
   "outputs": [],
   "source": [
    "def rank_gauss(x):\n",
    "    from scipy.special import erfinv\n",
    "    N = x.shape[0]\n",
    "    temp = x.argsort()\n",
    "    rank_x = temp.argsort() / N\n",
    "    rank_x -= rank_x.mean()\n",
    "    rank_x *= 2\n",
    "    efi_x = erfinv(rank_x)\n",
    "    efi_x -= efi_x.mean()\n",
    "    return efi_x"
   ]
  },
  {
   "cell_type": "code",
   "execution_count": 32,
   "metadata": {},
   "outputs": [
    {
     "data": {
      "text/html": [
       "<div>\n",
       "<style scoped>\n",
       "    .dataframe tbody tr th:only-of-type {\n",
       "        vertical-align: middle;\n",
       "    }\n",
       "\n",
       "    .dataframe tbody tr th {\n",
       "        vertical-align: top;\n",
       "    }\n",
       "\n",
       "    .dataframe thead th {\n",
       "        text-align: right;\n",
       "    }\n",
       "</style>\n",
       "<table border=\"1\" class=\"dataframe\">\n",
       "  <thead>\n",
       "    <tr style=\"text-align: right;\">\n",
       "      <th></th>\n",
       "      <th>ncl0</th>\n",
       "      <th>ncl1</th>\n",
       "      <th>ncl2</th>\n",
       "      <th>ncl3</th>\n",
       "      <th>avg_cs0</th>\n",
       "      <th>avg_cs1</th>\n",
       "      <th>avg_cs2</th>\n",
       "      <th>avg_cs3</th>\n",
       "      <th>ndof</th>\n",
       "      <th>MatchedHit_TYPE0</th>\n",
       "      <th>...</th>\n",
       "      <th>14</th>\n",
       "      <th>15</th>\n",
       "      <th>16</th>\n",
       "      <th>17</th>\n",
       "      <th>18</th>\n",
       "      <th>19</th>\n",
       "      <th>20</th>\n",
       "      <th>21</th>\n",
       "      <th>22</th>\n",
       "      <th>23</th>\n",
       "    </tr>\n",
       "  </thead>\n",
       "  <tbody>\n",
       "    <tr>\n",
       "      <th>0</th>\n",
       "      <td>-0.242089</td>\n",
       "      <td>0.690287</td>\n",
       "      <td>0.202455</td>\n",
       "      <td>0.34211</td>\n",
       "      <td>-0.497902</td>\n",
       "      <td>-0.466256</td>\n",
       "      <td>-0.564253</td>\n",
       "      <td>-0.464437</td>\n",
       "      <td>-0.766638</td>\n",
       "      <td>2</td>\n",
       "      <td>...</td>\n",
       "      <td>-0.631916</td>\n",
       "      <td>-0.644717</td>\n",
       "      <td>0.604388</td>\n",
       "      <td>0.604201</td>\n",
       "      <td>0.587477</td>\n",
       "      <td>0.592659</td>\n",
       "      <td>0.592075</td>\n",
       "      <td>0.591224</td>\n",
       "      <td>0.589062</td>\n",
       "      <td>0.587932</td>\n",
       "    </tr>\n",
       "  </tbody>\n",
       "</table>\n",
       "<p>1 rows × 91 columns</p>\n",
       "</div>"
      ],
      "text/plain": [
       "       ncl0      ncl1      ncl2     ncl3   avg_cs0   avg_cs1   avg_cs2  \\\n",
       "0 -0.242089  0.690287  0.202455  0.34211 -0.497902 -0.466256 -0.564253   \n",
       "\n",
       "    avg_cs3      ndof  MatchedHit_TYPE0    ...           14        15  \\\n",
       "0 -0.464437 -0.766638                 2    ...    -0.631916 -0.644717   \n",
       "\n",
       "         16        17        18        19        20        21        22  \\\n",
       "0  0.604388  0.604201  0.587477  0.592659  0.592075  0.591224  0.589062   \n",
       "\n",
       "         23  \n",
       "0  0.587932  \n",
       "\n",
       "[1 rows x 91 columns]"
      ]
     },
     "execution_count": 32,
     "metadata": {},
     "output_type": "execute_result"
    }
   ],
   "source": [
    "train_df.head(1)"
   ]
  },
  {
   "cell_type": "code",
   "execution_count": 33,
   "metadata": {},
   "outputs": [],
   "source": [
    "type_cols = [x for x in train_df.columns if 'TYPE' in x]"
   ]
  },
  {
   "cell_type": "code",
   "execution_count": 34,
   "metadata": {
    "scrolled": true
   },
   "outputs": [],
   "source": [
    "for i, col in enumerate(train_df.drop( type_cols + ['label', 'weight'], axis = 1)):\n",
    "    train_df[col] = rank_gauss(train_df[col].values)"
   ]
  },
  {
   "cell_type": "code",
   "execution_count": 36,
   "metadata": {},
   "outputs": [
    {
     "data": {
      "text/plain": [
       "Index(['ncl0', 'ncl1', 'ncl2', 'ncl3', 'avg_cs0', 'avg_cs1', 'avg_cs2',\n",
       "       'avg_cs3', 'ndof', 'MatchedHit_TYPE0', 'MatchedHit_TYPE1',\n",
       "       'MatchedHit_TYPE2', 'MatchedHit_TYPE3', 'MatchedHit_X0',\n",
       "       'MatchedHit_X1', 'MatchedHit_X2', 'MatchedHit_X3', 'MatchedHit_Y0',\n",
       "       'MatchedHit_Y1', 'MatchedHit_Y2', 'MatchedHit_Y3', 'MatchedHit_Z0',\n",
       "       'MatchedHit_Z1', 'MatchedHit_Z2', 'MatchedHit_Z3', 'MatchedHit_DX0',\n",
       "       'MatchedHit_DX1', 'MatchedHit_DX2', 'MatchedHit_DX3', 'MatchedHit_DY0',\n",
       "       'MatchedHit_DY1', 'MatchedHit_DY2', 'MatchedHit_DY3', 'MatchedHit_DZ0',\n",
       "       'MatchedHit_DZ1', 'MatchedHit_DZ2', 'MatchedHit_DZ3', 'MatchedHit_T0',\n",
       "       'MatchedHit_T1', 'MatchedHit_T2', 'MatchedHit_T3', 'MatchedHit_DT0',\n",
       "       'MatchedHit_DT1', 'MatchedHit_DT2', 'MatchedHit_DT3', 'Lextra_X0',\n",
       "       'Lextra_X1', 'Lextra_X2', 'Lextra_X3', 'Lextra_Y0', 'Lextra_Y1',\n",
       "       'Lextra_Y2', 'Lextra_Y3', 'NShared', 'Mextra_DX20', 'Mextra_DX21',\n",
       "       'Mextra_DX22', 'Mextra_DX23', 'Mextra_DY20', 'Mextra_DY21',\n",
       "       'Mextra_DY22', 'Mextra_DY23', 'FOI_hits_N', 'PT', 'P', '0', '1', '2',\n",
       "       '3', '4', '5', '6', '7', '8', '9', '10', '11', '12', '13', '14', '15',\n",
       "       '16', '17', '18', '19', '20', '21', '22', '23'],\n",
       "      dtype='object')"
      ]
     },
     "execution_count": 36,
     "metadata": {},
     "output_type": "execute_result"
    }
   ],
   "source": [
    "test_df.columns"
   ]
  },
  {
   "cell_type": "code",
   "execution_count": 37,
   "metadata": {},
   "outputs": [],
   "source": [
    "for i, col in enumerate(test_df.drop(type_cols, axis = 1)):\n",
    "    test_df[col] = rank_gauss(test_df[col].values)"
   ]
  },
  {
   "cell_type": "code",
   "execution_count": 39,
   "metadata": {},
   "outputs": [
    {
     "data": {
      "text/html": [
       "<div>\n",
       "<style scoped>\n",
       "    .dataframe tbody tr th:only-of-type {\n",
       "        vertical-align: middle;\n",
       "    }\n",
       "\n",
       "    .dataframe tbody tr th {\n",
       "        vertical-align: top;\n",
       "    }\n",
       "\n",
       "    .dataframe thead th {\n",
       "        text-align: right;\n",
       "    }\n",
       "</style>\n",
       "<table border=\"1\" class=\"dataframe\">\n",
       "  <thead>\n",
       "    <tr style=\"text-align: right;\">\n",
       "      <th></th>\n",
       "      <th>ncl0</th>\n",
       "      <th>ncl1</th>\n",
       "      <th>ncl2</th>\n",
       "      <th>ncl3</th>\n",
       "      <th>avg_cs0</th>\n",
       "      <th>avg_cs1</th>\n",
       "      <th>avg_cs2</th>\n",
       "      <th>avg_cs3</th>\n",
       "      <th>ndof</th>\n",
       "      <th>MatchedHit_TYPE0</th>\n",
       "      <th>...</th>\n",
       "      <th>14</th>\n",
       "      <th>15</th>\n",
       "      <th>16</th>\n",
       "      <th>17</th>\n",
       "      <th>18</th>\n",
       "      <th>19</th>\n",
       "      <th>20</th>\n",
       "      <th>21</th>\n",
       "      <th>22</th>\n",
       "      <th>23</th>\n",
       "    </tr>\n",
       "    <tr>\n",
       "      <th>id</th>\n",
       "      <th></th>\n",
       "      <th></th>\n",
       "      <th></th>\n",
       "      <th></th>\n",
       "      <th></th>\n",
       "      <th></th>\n",
       "      <th></th>\n",
       "      <th></th>\n",
       "      <th></th>\n",
       "      <th></th>\n",
       "      <th></th>\n",
       "      <th></th>\n",
       "      <th></th>\n",
       "      <th></th>\n",
       "      <th></th>\n",
       "      <th></th>\n",
       "      <th></th>\n",
       "      <th></th>\n",
       "      <th></th>\n",
       "      <th></th>\n",
       "      <th></th>\n",
       "    </tr>\n",
       "  </thead>\n",
       "  <tbody>\n",
       "    <tr>\n",
       "      <th>0</th>\n",
       "      <td>-0.055707</td>\n",
       "      <td>-0.344936</td>\n",
       "      <td>-0.076376</td>\n",
       "      <td>0.35326</td>\n",
       "      <td>-0.325523</td>\n",
       "      <td>-1.153343</td>\n",
       "      <td>0.213742</td>\n",
       "      <td>0.711829</td>\n",
       "      <td>-1.001479</td>\n",
       "      <td>2</td>\n",
       "      <td>...</td>\n",
       "      <td>-0.329172</td>\n",
       "      <td>-0.325262</td>\n",
       "      <td>0.190187</td>\n",
       "      <td>0.198749</td>\n",
       "      <td>0.206819</td>\n",
       "      <td>0.208897</td>\n",
       "      <td>0.403182</td>\n",
       "      <td>0.202787</td>\n",
       "      <td>0.208456</td>\n",
       "      <td>0.211086</td>\n",
       "    </tr>\n",
       "  </tbody>\n",
       "</table>\n",
       "<p>1 rows × 89 columns</p>\n",
       "</div>"
      ],
      "text/plain": [
       "        ncl0      ncl1      ncl2     ncl3   avg_cs0   avg_cs1   avg_cs2  \\\n",
       "id                                                                        \n",
       "0  -0.055707 -0.344936 -0.076376  0.35326 -0.325523 -1.153343  0.213742   \n",
       "\n",
       "     avg_cs3      ndof  MatchedHit_TYPE0    ...           14        15  \\\n",
       "id                                          ...                          \n",
       "0   0.711829 -1.001479                 2    ...    -0.329172 -0.325262   \n",
       "\n",
       "          16        17        18        19        20        21        22  \\\n",
       "id                                                                         \n",
       "0   0.190187  0.198749  0.206819  0.208897  0.403182  0.202787  0.208456   \n",
       "\n",
       "          23  \n",
       "id            \n",
       "0   0.211086  \n",
       "\n",
       "[1 rows x 89 columns]"
      ]
     },
     "execution_count": 39,
     "metadata": {},
     "output_type": "execute_result"
    }
   ],
   "source": [
    "test_df.head(1)"
   ]
  },
  {
   "cell_type": "code",
   "execution_count": 40,
   "metadata": {},
   "outputs": [],
   "source": [
    "# train_df = all_df[all_df.istrain == 1].drop('istrain', axis = 1)\n",
    "# test_df = all_df[all_df.istrain == 0].drop(['istrain','label', 'weight'] , axis = 1)\n",
    "train_part, valid_df = train_test_split(train_df, test_size = 0.10, random_state = 0, shuffle=True)\n",
    "train_features = [x for x in train_df.columns.tolist() if x not in ['label', 'weight'] ]\n",
    "X_train = train_part[train_features]\n",
    "y_train = train_part[['label']]\n",
    "w_train = train_part[['weight']]\n",
    "\n",
    "X_valid = valid_df[train_features]\n",
    "y_valid = valid_df['label']\n",
    "w_valid = valid_df['weight']"
   ]
  },
  {
   "cell_type": "code",
   "execution_count": 41,
   "metadata": {},
   "outputs": [
    {
     "data": {
      "text/plain": [
       "((726095, 89), (5445705, 91), (544571, 89), (4901134, 89))"
      ]
     },
     "execution_count": 41,
     "metadata": {},
     "output_type": "execute_result"
    }
   ],
   "source": [
    "test_df.shape, train_df.shape, X_valid.shape, X_train.shape"
   ]
  },
  {
   "cell_type": "code",
   "execution_count": 42,
   "metadata": {},
   "outputs": [
    {
     "data": {
      "text/html": [
       "<div>\n",
       "<style scoped>\n",
       "    .dataframe tbody tr th:only-of-type {\n",
       "        vertical-align: middle;\n",
       "    }\n",
       "\n",
       "    .dataframe tbody tr th {\n",
       "        vertical-align: top;\n",
       "    }\n",
       "\n",
       "    .dataframe thead th {\n",
       "        text-align: right;\n",
       "    }\n",
       "</style>\n",
       "<table border=\"1\" class=\"dataframe\">\n",
       "  <thead>\n",
       "    <tr style=\"text-align: right;\">\n",
       "      <th></th>\n",
       "      <th>ncl0</th>\n",
       "      <th>ncl1</th>\n",
       "      <th>ncl2</th>\n",
       "      <th>ncl3</th>\n",
       "      <th>avg_cs0</th>\n",
       "      <th>avg_cs1</th>\n",
       "      <th>avg_cs2</th>\n",
       "      <th>avg_cs3</th>\n",
       "      <th>ndof</th>\n",
       "      <th>MatchedHit_TYPE0</th>\n",
       "      <th>...</th>\n",
       "      <th>14</th>\n",
       "      <th>15</th>\n",
       "      <th>16</th>\n",
       "      <th>17</th>\n",
       "      <th>18</th>\n",
       "      <th>19</th>\n",
       "      <th>20</th>\n",
       "      <th>21</th>\n",
       "      <th>22</th>\n",
       "      <th>23</th>\n",
       "    </tr>\n",
       "  </thead>\n",
       "  <tbody>\n",
       "    <tr>\n",
       "      <th>5342123</th>\n",
       "      <td>-0.981942</td>\n",
       "      <td>0.651043</td>\n",
       "      <td>-0.760991</td>\n",
       "      <td>-0.775340</td>\n",
       "      <td>-0.975170</td>\n",
       "      <td>0.766722</td>\n",
       "      <td>-0.967815</td>\n",
       "      <td>-0.418826</td>\n",
       "      <td>-0.312014</td>\n",
       "      <td>2</td>\n",
       "      <td>...</td>\n",
       "      <td>-0.529434</td>\n",
       "      <td>-0.525633</td>\n",
       "      <td>-0.215047</td>\n",
       "      <td>-0.164716</td>\n",
       "      <td>-0.210305</td>\n",
       "      <td>-0.15064</td>\n",
       "      <td>-0.178574</td>\n",
       "      <td>-0.250939</td>\n",
       "      <td>-0.209326</td>\n",
       "      <td>-0.311239</td>\n",
       "    </tr>\n",
       "    <tr>\n",
       "      <th>4394750</th>\n",
       "      <td>0.152488</td>\n",
       "      <td>0.234626</td>\n",
       "      <td>0.381504</td>\n",
       "      <td>0.466911</td>\n",
       "      <td>-0.329981</td>\n",
       "      <td>-0.537258</td>\n",
       "      <td>0.160020</td>\n",
       "      <td>0.234259</td>\n",
       "      <td>-0.164703</td>\n",
       "      <td>2</td>\n",
       "      <td>...</td>\n",
       "      <td>-0.673702</td>\n",
       "      <td>-0.673254</td>\n",
       "      <td>-0.739832</td>\n",
       "      <td>-0.822045</td>\n",
       "      <td>-0.824762</td>\n",
       "      <td>-0.68923</td>\n",
       "      <td>-0.744055</td>\n",
       "      <td>-0.819817</td>\n",
       "      <td>-0.856018</td>\n",
       "      <td>-0.786825</td>\n",
       "    </tr>\n",
       "  </tbody>\n",
       "</table>\n",
       "<p>2 rows × 89 columns</p>\n",
       "</div>"
      ],
      "text/plain": [
       "             ncl0      ncl1      ncl2      ncl3   avg_cs0   avg_cs1   avg_cs2  \\\n",
       "5342123 -0.981942  0.651043 -0.760991 -0.775340 -0.975170  0.766722 -0.967815   \n",
       "4394750  0.152488  0.234626  0.381504  0.466911 -0.329981 -0.537258  0.160020   \n",
       "\n",
       "          avg_cs3      ndof  MatchedHit_TYPE0    ...           14        15  \\\n",
       "5342123 -0.418826 -0.312014                 2    ...    -0.529434 -0.525633   \n",
       "4394750  0.234259 -0.164703                 2    ...    -0.673702 -0.673254   \n",
       "\n",
       "               16        17        18       19        20        21        22  \\\n",
       "5342123 -0.215047 -0.164716 -0.210305 -0.15064 -0.178574 -0.250939 -0.209326   \n",
       "4394750 -0.739832 -0.822045 -0.824762 -0.68923 -0.744055 -0.819817 -0.856018   \n",
       "\n",
       "               23  \n",
       "5342123 -0.311239  \n",
       "4394750 -0.786825  \n",
       "\n",
       "[2 rows x 89 columns]"
      ]
     },
     "execution_count": 42,
     "metadata": {},
     "output_type": "execute_result"
    }
   ],
   "source": [
    "X_train.head(2)"
   ]
  },
  {
   "cell_type": "markdown",
   "metadata": {},
   "source": [
    "## Model"
   ]
  },
  {
   "cell_type": "code",
   "execution_count": 60,
   "metadata": {},
   "outputs": [],
   "source": [
    "class MyModel(torch.nn.Module):\n",
    "    def __init__(self, input_size):\n",
    "        super().__init__()\n",
    "        self.fc1 = torch.nn.Linear(input_size, 32)\n",
    "        self.fc2 = torch.nn.Linear(32, 16)\n",
    "        self.fc3 = torch.nn.Linear(16, 4) \n",
    "        self.fc4 = torch.nn.Linear(4, 1) \n",
    "            \n",
    "    def forward(self, x):\n",
    "        fc1_op = relu(self.fc1(x))\n",
    "        fc2_op = relu(self.fc2(fc1_op))\n",
    "        fc3_op = relu(self.fc3(fc2_op))\n",
    "        return self.fc4(fc3_op)"
   ]
  },
  {
   "cell_type": "code",
   "execution_count": 2,
   "metadata": {},
   "outputs": [],
   "source": [
    "## \n",
    "# 4901134/2048"
   ]
  },
  {
   "cell_type": "code",
   "execution_count": 62,
   "metadata": {},
   "outputs": [],
   "source": [
    "def train(x, y, model, epochs, bs, lr):\n",
    "    iters = len(x)//bs\n",
    "    x , y = torch.from_numpy(x.values).float().cuda(), torch.from_numpy(y.values).float().cuda()\n",
    "    optim = torch.optim.Adam(model.parameters(), lr=lr)\n",
    "    floss = BCEWithLogitsLoss()\n",
    "    losses = []\n",
    "    best_score = 0\n",
    "    \n",
    "    for e in tqdm(range(epochs)):\n",
    "        cosine_scheduler = lr_scheduler.CosineAnnealingLR(optim, 2527, eta_min=0)\n",
    "        ind = np.random.permutation(range(len(x)))\n",
    "        x, y = x[ind], y[ind]\n",
    "        for i in range(iters):\n",
    "            cosine_scheduler.step()\n",
    "            batch_x, batch_y = x[i*bs:(i+1)*bs], y[i*bs:(i+1)*bs]\n",
    "            optim.zero_grad()\n",
    "            loss = floss(model(batch_x), batch_y)\n",
    "            losses.append(loss.item())\n",
    "            loss.backward()\n",
    "            optim.step()\n",
    "            \n",
    "        temp_model = deepcopy(model)\n",
    "        temp_model.eval()\n",
    "        train_pred = predict(X_train, temp_model)\n",
    "        valid_pred = predict(X_valid, temp_model)\n",
    "        auc_valid = roc_auc_score(y_valid.values, valid_pred, sample_weight = w_valid.values)\n",
    "        auc_train = roc_auc_score(y_train.label.values, train_pred, sample_weight = w_train.values)\n",
    "\n",
    "        valid_score = scoring.rejection90(y_valid.values, valid_pred, sample_weight = w_valid.values)\n",
    "        train_score = scoring.rejection90(y_train.label.values, train_pred, sample_weight = w_train.values)\n",
    "        if valid_score > best_score:\n",
    "            best_score = valid_score\n",
    "            best_model = temp_model\n",
    "            best_model_wts = temp_model.state_dict()\n",
    "            save_checkpoint(e,{\n",
    "                    'epoch': e + 1,\n",
    "                    'state_dict': temp_model.state_dict(),\n",
    "                    'best_score': best_score,\n",
    "                    'optimizer' : optim.state_dict(),\n",
    "                })\n",
    "            print(f'Epoch {e}: valid score {best_score}, train_score {train_score}, train_auc {auc_train}, valid_auc {auc_valid}')\n",
    "            \n",
    "    return best_model"
   ]
  },
  {
   "cell_type": "code",
   "execution_count": 63,
   "metadata": {},
   "outputs": [],
   "source": [
    "path_to_checkpoint = '../models/NN_models_3_32init'\n",
    "def save_checkpoint(epoch, state, path_to_checkpoint = path_to_checkpoint, filename = '_ckpt.pth.tar'):\n",
    "    filepath = os.path.join(path_to_checkpoint, \"epoch_\" + str(epoch) + filename)\n",
    "    torch.save(state, filepath)"
   ]
  },
  {
   "cell_type": "code",
   "execution_count": 64,
   "metadata": {},
   "outputs": [],
   "source": [
    "def predict(x, model):\n",
    "    x = torch.from_numpy(x.values).float().cuda()\n",
    "    return torch.nn.functional.sigmoid(model(x)).cpu().detach().numpy()[:, 0]"
   ]
  },
  {
   "cell_type": "code",
   "execution_count": 66,
   "metadata": {},
   "outputs": [
    {
     "data": {
      "text/plain": [
       "(4901134, 89)"
      ]
     },
     "execution_count": 66,
     "metadata": {},
     "output_type": "execute_result"
    }
   ],
   "source": [
    "X_train.shape"
   ]
  },
  {
   "cell_type": "code",
   "execution_count": 67,
   "metadata": {
    "scrolled": true
   },
   "outputs": [
    {
     "name": "stderr",
     "output_type": "stream",
     "text": [
      "  0%|          | 1/250 [00:22<1:34:56, 22.88s/it]"
     ]
    },
    {
     "name": "stdout",
     "output_type": "stream",
     "text": [
      "Epoch 0: valid score 0.6747979020046352, train_score 0.6703029689198009, train_auc 0.8444870170745933, valid_auc 0.8481092741159438\n"
     ]
    },
    {
     "name": "stderr",
     "output_type": "stream",
     "text": [
      "\r",
      "  1%|          | 2/250 [00:44<1:32:21, 22.34s/it]"
     ]
    },
    {
     "name": "stdout",
     "output_type": "stream",
     "text": [
      "Epoch 1: valid score 0.6892409605665334, train_score 0.6913952185497753, train_auc 0.8553819854026998, valid_auc 0.8561496435297118\n"
     ]
    },
    {
     "name": "stderr",
     "output_type": "stream",
     "text": [
      "\r",
      "  1%|          | 3/250 [01:06<1:31:55, 22.33s/it]"
     ]
    },
    {
     "name": "stdout",
     "output_type": "stream",
     "text": [
      "Epoch 2: valid score 0.704508150902683, train_score 0.7062492399022919, train_auc 0.8611747080550567, valid_auc 0.8623623763234125\n"
     ]
    },
    {
     "name": "stderr",
     "output_type": "stream",
     "text": [
      "\r",
      "  2%|▏         | 4/250 [01:29<1:32:01, 22.45s/it]"
     ]
    },
    {
     "name": "stdout",
     "output_type": "stream",
     "text": [
      "Epoch 3: valid score 0.7231799174200926, train_score 0.7188314556126008, train_auc 0.866709938387376, valid_auc 0.8696666756432866\n"
     ]
    },
    {
     "name": "stderr",
     "output_type": "stream",
     "text": [
      "\r",
      "  2%|▏         | 5/250 [01:52<1:31:44, 22.47s/it]"
     ]
    },
    {
     "name": "stdout",
     "output_type": "stream",
     "text": [
      "Epoch 4: valid score 0.7344688043624708, train_score 0.725435874526409, train_auc 0.8706665546315574, valid_auc 0.8744852676587198\n"
     ]
    },
    {
     "name": "stderr",
     "output_type": "stream",
     "text": [
      "\r",
      "  2%|▏         | 6/250 [02:14<1:31:12, 22.43s/it]"
     ]
    },
    {
     "name": "stdout",
     "output_type": "stream",
     "text": [
      "Epoch 5: valid score 0.7377304846198529, train_score 0.7303722315346607, train_auc 0.8721480030118717, valid_auc 0.8750312119190619\n"
     ]
    },
    {
     "name": "stderr",
     "output_type": "stream",
     "text": [
      "  3%|▎         | 8/250 [03:03<1:32:36, 22.96s/it]"
     ]
    },
    {
     "name": "stdout",
     "output_type": "stream",
     "text": [
      "Epoch 7: valid score 0.7390204845881514, train_score 0.7374604591066385, train_auc 0.8735483607871942, valid_auc 0.8778261606310922\n"
     ]
    },
    {
     "name": "stderr",
     "output_type": "stream",
     "text": [
      "\r",
      "  4%|▎         | 9/250 [04:02<1:48:21, 26.98s/it]"
     ]
    },
    {
     "name": "stdout",
     "output_type": "stream",
     "text": [
      "Epoch 8: valid score 0.7435984004052196, train_score 0.7399824668895671, train_auc 0.8756390744090293, valid_auc 0.8801622688638795\n"
     ]
    },
    {
     "name": "stderr",
     "output_type": "stream",
     "text": [
      "\r",
      "  4%|▍         | 10/250 [05:00<2:00:03, 30.01s/it]"
     ]
    },
    {
     "name": "stdout",
     "output_type": "stream",
     "text": [
      "Epoch 9: valid score 0.7479433830490428, train_score 0.7387686485596948, train_auc 0.8756517262941075, valid_auc 0.8806555142580179\n"
     ]
    },
    {
     "name": "stderr",
     "output_type": "stream",
     "text": [
      "  7%|▋         | 18/250 [13:02<2:48:02, 43.46s/it]"
     ]
    },
    {
     "name": "stdout",
     "output_type": "stream",
     "text": [
      "Epoch 17: valid score 0.7486857409678113, train_score 0.7416555034267215, train_auc 0.8763367082647321, valid_auc 0.8810230429611378\n"
     ]
    },
    {
     "name": "stderr",
     "output_type": "stream",
     "text": [
      "  8%|▊         | 20/250 [13:53<2:39:48, 41.69s/it]"
     ]
    },
    {
     "name": "stdout",
     "output_type": "stream",
     "text": [
      "Epoch 19: valid score 0.7490085803217209, train_score 0.7409321025040049, train_auc 0.8765706990553934, valid_auc 0.881487460133393\n"
     ]
    },
    {
     "name": "stderr",
     "output_type": "stream",
     "text": [
      " 10%|▉         | 24/250 [15:35<2:26:51, 38.99s/it]"
     ]
    },
    {
     "name": "stdout",
     "output_type": "stream",
     "text": [
      "Epoch 23: valid score 0.7495640373920736, train_score 0.7394743127238018, train_auc 0.8764240849732953, valid_auc 0.8805086486347348\n"
     ]
    },
    {
     "name": "stderr",
     "output_type": "stream",
     "text": [
      " 11%|█         | 28/250 [17:18<2:17:14, 37.09s/it]"
     ]
    },
    {
     "name": "stdout",
     "output_type": "stream",
     "text": [
      "Epoch 27: valid score 0.7499921302299118, train_score 0.7423946719805112, train_auc 0.8773388619194787, valid_auc 0.8816102343439828\n"
     ]
    },
    {
     "name": "stderr",
     "output_type": "stream",
     "text": [
      " 19%|█▉        | 48/250 [25:27<1:47:10, 31.83s/it]"
     ]
    },
    {
     "name": "stdout",
     "output_type": "stream",
     "text": [
      "Epoch 47: valid score 0.7516971396416262, train_score 0.7427171616396189, train_auc 0.8775952336831055, valid_auc 0.8811686204440564\n"
     ]
    },
    {
     "name": "stderr",
     "output_type": "stream",
     "text": [
      " 21%|██        | 52/250 [26:43<1:41:45, 30.83s/it]"
     ]
    },
    {
     "name": "stdout",
     "output_type": "stream",
     "text": [
      "Epoch 51: valid score 0.7553783676907857, train_score 0.7418217524413059, train_auc 0.8773859324223199, valid_auc 0.8825284331712115\n"
     ]
    },
    {
     "name": "stderr",
     "output_type": "stream",
     "text": [
      "100%|██████████| 250/250 [1:48:22<00:00, 26.01s/it]\n"
     ]
    }
   ],
   "source": [
    "np.random.seed(0)\n",
    "torch.manual_seed(0)\n",
    "model = MyModel(X_train.shape[1]).cuda()\n",
    "my_best_model = train(X_train, y_train, model, epochs= 250, bs = 2048, lr = 0.01 )"
   ]
  },
  {
   "cell_type": "code",
   "execution_count": null,
   "metadata": {},
   "outputs": [],
   "source": [
    "X_train.shape, test_df.shape"
   ]
  },
  {
   "cell_type": "code",
   "execution_count": 69,
   "metadata": {},
   "outputs": [
    {
     "data": {
      "text/plain": [
       "MyModel(\n",
       "  (fc1): Linear(in_features=89, out_features=32, bias=True)\n",
       "  (fc2): Linear(in_features=32, out_features=16, bias=True)\n",
       "  (fc3): Linear(in_features=16, out_features=4, bias=True)\n",
       "  (fc4): Linear(in_features=4, out_features=1, bias=True)\n",
       ")"
      ]
     },
     "execution_count": 69,
     "metadata": {},
     "output_type": "execute_result"
    }
   ],
   "source": [
    "my_best_model"
   ]
  },
  {
   "cell_type": "code",
   "execution_count": 68,
   "metadata": {},
   "outputs": [
    {
     "name": "stdout",
     "output_type": "stream",
     "text": [
      "auc 0.8825284331712115\n",
      "auc 0.8773859324223199\n",
      "validation score =  0.7553783676907857\n",
      "train score =  0.7418217524413059\n"
     ]
    }
   ],
   "source": [
    "my_best_model.eval()\n",
    "train_pred = predict(X_train, my_best_model)\n",
    "valid_pred = predict(X_valid, my_best_model)\n",
    "print ('auc', roc_auc_score(y_valid.values, valid_pred, sample_weight = w_valid.values))\n",
    "print ('auc', roc_auc_score(y_train.label.values, train_pred, sample_weight = w_train.values))\n",
    "\n",
    "print( \"validation score = \", scoring.rejection90(y_valid.values, valid_pred, sample_weight = w_valid.values))\n",
    "print( \"train score = \", scoring.rejection90(y_train.label.values, train_pred, sample_weight = w_train.values))\n",
    "test_pred = predict(test_df, my_best_model)"
   ]
  },
  {
   "cell_type": "code",
   "execution_count": 70,
   "metadata": {},
   "outputs": [
    {
     "data": {
      "text/plain": [
       "array([0.9852594 , 0.9842867 , 0.9930386 , 0.97217464, 0.9774964 ,\n",
       "       0.92686456, 0.9637913 , 0.98121256, 0.9723598 , 0.97658247,\n",
       "       0.9820066 , 0.95516145, 0.988545  , 0.961777  , 0.99406505,\n",
       "       0.9758035 , 0.9793133 , 0.98250836, 0.9863214 , 0.9896046 ],\n",
       "      dtype=float32)"
      ]
     },
     "execution_count": 70,
     "metadata": {},
     "output_type": "execute_result"
    }
   ],
   "source": [
    "# test_pred = predict(test_df, model)\n",
    "test_pred[:20]"
   ]
  },
  {
   "cell_type": "code",
   "execution_count": 71,
   "metadata": {},
   "outputs": [],
   "source": [
    "pd.DataFrame(data={\"prediction\":  test_pred}, index=test_df.index).to_csv(\n",
    "    \"../submissions/NN_90perc_32_16_4_7553.csv\", index_label=utils.ID_COLUMN)"
   ]
  }
 ],
 "metadata": {
  "kernelspec": {
   "display_name": "Python 3",
   "language": "python",
   "name": "python3"
  },
  "language_info": {
   "codemirror_mode": {
    "name": "ipython",
    "version": 3
   },
   "file_extension": ".py",
   "mimetype": "text/x-python",
   "name": "python",
   "nbconvert_exporter": "python",
   "pygments_lexer": "ipython3",
   "version": "3.6.5"
  }
 },
 "nbformat": 4,
 "nbformat_minor": 2
}
