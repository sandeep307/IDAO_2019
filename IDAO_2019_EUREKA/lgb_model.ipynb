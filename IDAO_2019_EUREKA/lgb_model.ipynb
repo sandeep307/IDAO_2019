{
 "cells": [
  {
   "cell_type": "code",
   "execution_count": 3,
   "metadata": {},
   "outputs": [],
   "source": [
    "import os\n",
    "import pandas as pd\n",
    "import xgboost\n",
    "import utils\n",
    "import scoring\n",
    "import lightgbm as lgb\n",
    "from sklearn.model_selection import train_test_split, StratifiedKFold\n",
    "from sklearn.metrics import auc\n",
    "from matplotlib import pyplot as plt\n",
    "import numpy as np\n",
    "from sklearn.decomposition import PCA\n",
    "import xgboost as xgb\n",
    "from sklearn.preprocessing import scale\n",
    "from sklearn import  preprocessing\n",
    "from hyperopt import hp\n",
    "from hyperopt import fmin, tpe, hp, STATUS_OK, Trials\n",
    "pd.options.display.max_columns = 1000"
   ]
  },
  {
   "cell_type": "code",
   "execution_count": 4,
   "metadata": {},
   "outputs": [
    {
     "data": {
      "text/plain": [
       "catch_warnings()"
      ]
     },
     "execution_count": 4,
     "metadata": {},
     "output_type": "execute_result"
    }
   ],
   "source": [
    "import warnings\n",
    "warnings.catch_warnings()"
   ]
  },
  {
   "cell_type": "markdown",
   "metadata": {},
   "source": [
    "## load train and validation"
   ]
  },
  {
   "cell_type": "code",
   "execution_count": 6,
   "metadata": {},
   "outputs": [
    {
     "name": "stderr",
     "output_type": "stream",
     "text": [
      "/home/myntra/anaconda3/lib/python3.6/site-packages/numpy/lib/arraysetops.py:569: FutureWarning: elementwise comparison failed; returning scalar instead, but in the future will perform elementwise comparison\n",
      "  mask |= (ar1 == a)\n"
     ]
    },
    {
     "name": "stdout",
     "output_type": "stream",
     "text": [
      "train shape (5445705, 67) test shape (726095, 65)\n",
      "train shape (5445705, 25) test shape (726095, 25)\n"
     ]
    }
   ],
   "source": [
    "DATA_PATH = \"../data\"\n",
    "train_df, test_df = utils.load_data_csv(DATA_PATH, utils.SIMPLE_FEATURE_COLUMNS)\n",
    "\n",
    "train_hit = pd.read_csv('../data/train_closest_hits_features.csv')\n",
    "test_hit = pd.read_csv('../data/test_closest_hits_features.csv')\n",
    "\n",
    "print ('train shape {} test shape {}'.format(train_df.shape, test_df.shape))\n",
    "print ('train shape {} test shape {}'.format(train_hit.shape, test_hit.shape))\n",
    "\n",
    "\n",
    "train_df = pd.concat([train_df, train_hit], axis=1)\n",
    "test_df = pd.concat([test_df, test_hit], axis=1)\n",
    "del train_hit, test_hit\n",
    "# print ('After concating train shape {} test shape {}'.format(train_df.shape, test_df.shape))\n",
    "\n",
    "train_df.drop('Unnamed: 0', axis = 1, inplace=True)\n",
    "test_df.drop('Unnamed: 0', axis = 1, inplace=True)"
   ]
  },
  {
   "cell_type": "code",
   "execution_count": 7,
   "metadata": {},
   "outputs": [],
   "source": [
    "train_part, valid_df = train_test_split(train_df, test_size = 0.05, random_state = 0, shuffle=True)\n",
    "train_features = [x for x in train_df.columns.tolist() if x not in ['label', 'weight'] ]\n",
    "X_train = train_part[train_features]\n",
    "y_train = train_part.label\n",
    "w_train = train_part.weight\n",
    "\n",
    "X_valid = valid_df[train_features]\n",
    "y_valid = valid_df.label\n",
    "w_valid = valid_df.weight"
   ]
  },
  {
   "cell_type": "code",
   "execution_count": 10,
   "metadata": {},
   "outputs": [],
   "source": [
    "print (train_df.shape, valid_df.shape, test_df.shape, X_train.shape, X_valid.shape)\n",
    "del valid_df, train_df, train_part"
   ]
  },
  {
   "cell_type": "markdown",
   "metadata": {},
   "source": [
    "## Hyperopt param search"
   ]
  },
  {
   "cell_type": "code",
   "execution_count": 6,
   "metadata": {},
   "outputs": [],
   "source": [
    "def get_score(valid_pred, dvalid):\n",
    "    w_valid = dvalid.get_weight()  \n",
    "    actuals = dvalid.get_label()\n",
    "    score = scoring.rejection90(actuals.values, valid_pred, sample_weight = w_valid.values)\n",
    "    return 'score', score, True"
   ]
  },
  {
   "cell_type": "code",
   "execution_count": 8,
   "metadata": {},
   "outputs": [],
   "source": [
    "def score(params):\n",
    "    print (\"Training with params : \")\n",
    "    print (params)\n",
    "    num_round = int(params['n_estimators'])\n",
    "    del params['n_estimators']\n",
    "    dtrain = lgb.Dataset(X_train, label = y_train, weight = w_train)\n",
    "    dvalid = lgb.Dataset(X_valid, label = y_valid, weight = w_valid)\n",
    "    model = lgb.train(params, dtrain, num_round, valid_sets = [dtrain, dvalid], feval = get_score, \\\n",
    "                      verbose_eval = 20, early_stopping_rounds = 50)\n",
    "    valid_pred = model.predict(X_valid, num_iteration = model.best_iteration)\n",
    "    score = scoring.rejection90(y_valid, valid_pred, sample_weight = w_valid.values)\n",
    "    print (\"\\t\\tScore {0}\\n\\n\".format(score))\n",
    "    print( \"\\t\\tBest iteration = \", model.best_iteration )\n",
    "    return {'loss': -score, 'status': STATUS_OK}"
   ]
  },
  {
   "cell_type": "code",
   "execution_count": 9,
   "metadata": {},
   "outputs": [],
   "source": [
    "def optimize(trials):\n",
    "    space = {\n",
    "             'n_estimators' : 2000,\n",
    "             'learning_rate' : hp.quniform('learning_rate', 0.02, 0.3, 0.025),\n",
    "             'scale_pos_weight' : hp.choice('scale_pos_weight', np.arange(10, 25, dtype=int)),\n",
    "             'max_depth' : hp.choice('max_depth', np.arange(3, 12, dtype=int)), \n",
    "#              'min_data_in_leaf' : hp.choice('min_data_in_leaf', np.arange(20, 100, dtype=int)), \n",
    "             'colsample_bytree' : hp.quniform('colsample_bytree', 0.6, 1, 0.1),\n",
    "             'subsample' : hp.quniform('subsample', 0.6, 1, 0.1),\n",
    "             'lambda_l1' : hp.quniform('lambda_l1', 1, 6, 1),\n",
    "             'lambda_l2' : hp.quniform('lambda_l2', 1, 6, 1),\n",
    "             'metric': 'auc',\n",
    "             'objective': 'binary',\n",
    "             'nthread' : 6,\n",
    "             'silent' : 1,\n",
    "             'seed' : '0'\n",
    "             }\n",
    "\n",
    "    best = fmin(score, space, algo=tpe.suggest, trials=trials, max_evals= 20)\n",
    "    print (best)"
   ]
  },
  {
   "cell_type": "code",
   "execution_count": null,
   "metadata": {
    "scrolled": true
   },
   "outputs": [
    {
     "name": "stdout",
     "output_type": "stream",
     "text": [
      "Training with params : \n",
      "{'colsample_bytree': 0.7000000000000001, 'lambda_l1': 6.0, 'lambda_l2': 3.0, 'learning_rate': 0.225, 'max_depth': 6, 'metric': 'auc', 'n_estimators': 2000, 'nthread': 6, 'objective': 'binary', 'scale_pos_weight': 23, 'seed': '0', 'silent': 1, 'subsample': 0.8}\n"
     ]
    },
    {
     "name": "stderr",
     "output_type": "stream",
     "text": [
      "/home/myntra/anaconda3/lib/python3.6/site-packages/lightgbm/basic.py:731: UserWarning: silent keyword has been found in `params` and will be ignored.\n",
      "Please use silent argument of the Dataset constructor to pass this parameter.\n",
      "  .format(key))\n"
     ]
    },
    {
     "name": "stdout",
     "output_type": "stream",
     "text": [
      "Training until validation scores don't improve for 50 rounds.\n",
      "[20]\ttraining's auc: 0.911088\ttraining's score: 0.770665\tvalid_1's auc: 0.897659\tvalid_1's score: 0.755536\n",
      "[40]\ttraining's auc: 0.937031\ttraining's score: 0.809902\tvalid_1's auc: 0.907342\tvalid_1's score: 0.774467\n",
      "[60]\ttraining's auc: 0.946903\ttraining's score: 0.82358\tvalid_1's auc: 0.907074\tvalid_1's score: 0.779375\n",
      "[80]\ttraining's auc: 0.951296\ttraining's score: 0.828664\tvalid_1's auc: 0.908627\tvalid_1's score: 0.777944\n",
      "Early stopping, best iteration is:\n",
      "[46]\ttraining's auc: 0.941833\ttraining's score: 0.816817\tvalid_1's auc: 0.90684\tvalid_1's score: 0.785078\n",
      "\t\tScore 0.7850780039420767\n",
      "\n",
      "\n",
      "\t\tBest iteration =  46\n",
      "Training with params : \n",
      "{'colsample_bytree': 0.9, 'lambda_l1': 6.0, 'lambda_l2': 6.0, 'learning_rate': 0.05, 'max_depth': 4, 'metric': 'auc', 'n_estimators': 2000, 'nthread': 6, 'objective': 'binary', 'scale_pos_weight': 16, 'seed': '0', 'silent': 1, 'subsample': 0.7000000000000001}\n",
      "Training until validation scores don't improve for 50 rounds.\n",
      "[20]\ttraining's auc: 0.805877\ttraining's score: 0.58863\tvalid_1's auc: 0.799465\tvalid_1's score: 0.579691\n",
      "[40]\ttraining's auc: 0.854695\ttraining's score: 0.658354\tvalid_1's auc: 0.844748\tvalid_1's score: 0.655694\n",
      "[60]\ttraining's auc: 0.883644\ttraining's score: 0.724315\tvalid_1's auc: 0.871739\tvalid_1's score: 0.71922\n",
      "[80]\ttraining's auc: 0.897868\ttraining's score: 0.744868\tvalid_1's auc: 0.885765\tvalid_1's score: 0.737552\n",
      "[100]\ttraining's auc: 0.90574\ttraining's score: 0.756631\tvalid_1's auc: 0.892397\tvalid_1's score: 0.740516\n",
      "[120]\ttraining's auc: 0.911292\ttraining's score: 0.770605\tvalid_1's auc: 0.89741\tvalid_1's score: 0.750632\n",
      "[140]\ttraining's auc: 0.91588\ttraining's score: 0.777794\tvalid_1's auc: 0.900536\tvalid_1's score: 0.755937\n",
      "[160]\ttraining's auc: 0.91995\ttraining's score: 0.784424\tvalid_1's auc: 0.90279\tvalid_1's score: 0.759612\n",
      "[180]\ttraining's auc: 0.923223\ttraining's score: 0.788879\tvalid_1's auc: 0.905186\tvalid_1's score: 0.761629\n",
      "[200]\ttraining's auc: 0.926245\ttraining's score: 0.793779\tvalid_1's auc: 0.905592\tvalid_1's score: 0.76119\n",
      "[220]\ttraining's auc: 0.929123\ttraining's score: 0.797395\tvalid_1's auc: 0.90697\tvalid_1's score: 0.765959\n",
      "[240]\ttraining's auc: 0.930683\ttraining's score: 0.800695\tvalid_1's auc: 0.907821\tvalid_1's score: 0.769749\n",
      "[260]\ttraining's auc: 0.93248\ttraining's score: 0.803493\tvalid_1's auc: 0.908274\tvalid_1's score: 0.769622\n",
      "[280]\ttraining's auc: 0.934573\ttraining's score: 0.80543\tvalid_1's auc: 0.908893\tvalid_1's score: 0.777666\n",
      "[300]\ttraining's auc: 0.936069\ttraining's score: 0.807765\tvalid_1's auc: 0.909631\tvalid_1's score: 0.777908\n",
      "[320]\ttraining's auc: 0.93794\ttraining's score: 0.809441\tvalid_1's auc: 0.908713\tvalid_1's score: 0.774739\n",
      "[340]\ttraining's auc: 0.939569\ttraining's score: 0.810686\tvalid_1's auc: 0.908561\tvalid_1's score: 0.774017\n",
      "Early stopping, best iteration is:\n",
      "[296]\ttraining's auc: 0.935875\ttraining's score: 0.80703\tvalid_1's auc: 0.909512\tvalid_1's score: 0.778418\n",
      "\t\tScore 0.7784176630169147\n",
      "\n",
      "\n",
      "\t\tBest iteration =  296\n",
      "Training with params : \n",
      "{'colsample_bytree': 0.6000000000000001, 'lambda_l1': 6.0, 'lambda_l2': 3.0, 'learning_rate': 0.275, 'max_depth': 7, 'metric': 'auc', 'n_estimators': 2000, 'nthread': 6, 'objective': 'binary', 'scale_pos_weight': 10, 'seed': '0', 'silent': 1, 'subsample': 0.7000000000000001}\n",
      "Training until validation scores don't improve for 50 rounds.\n",
      "[20]\ttraining's auc: 0.925107\ttraining's score: 0.788455\tvalid_1's auc: 0.902433\tvalid_1's score: 0.758507\n",
      "[40]\ttraining's auc: 0.945578\ttraining's score: 0.813767\tvalid_1's auc: 0.905243\tvalid_1's score: 0.772021\n",
      "[60]\ttraining's auc: 0.954505\ttraining's score: 0.82512\tvalid_1's auc: 0.905148\tvalid_1's score: 0.770386\n",
      "[80]\ttraining's auc: 0.958463\ttraining's score: 0.830351\tvalid_1's auc: 0.903966\tvalid_1's score: 0.764407\n",
      "Early stopping, best iteration is:\n",
      "[40]\ttraining's auc: 0.945578\ttraining's score: 0.813767\tvalid_1's auc: 0.905243\tvalid_1's score: 0.772021\n",
      "\t\tScore 0.7720210758740076\n",
      "\n",
      "\n",
      "\t\tBest iteration =  40\n",
      "Training with params : \n",
      "{'colsample_bytree': 0.7000000000000001, 'lambda_l1': 5.0, 'lambda_l2': 3.0, 'learning_rate': 0.15000000000000002, 'max_depth': 5, 'metric': 'auc', 'n_estimators': 2000, 'nthread': 6, 'objective': 'binary', 'scale_pos_weight': 20, 'seed': '0', 'silent': 1, 'subsample': 0.9}\n",
      "Training until validation scores don't improve for 50 rounds.\n",
      "[20]\ttraining's auc: 0.889573\ttraining's score: 0.736569\tvalid_1's auc: 0.875104\tvalid_1's score: 0.71805\n",
      "[40]\ttraining's auc: 0.920544\ttraining's score: 0.783162\tvalid_1's auc: 0.898302\tvalid_1's score: 0.757468\n",
      "[60]\ttraining's auc: 0.934738\ttraining's score: 0.805316\tvalid_1's auc: 0.905619\tvalid_1's score: 0.774269\n",
      "[80]\ttraining's auc: 0.944289\ttraining's score: 0.81993\tvalid_1's auc: 0.907527\tvalid_1's score: 0.776705\n",
      "[100]\ttraining's auc: 0.949803\ttraining's score: 0.827431\tvalid_1's auc: 0.908856\tvalid_1's score: 0.783013\n",
      "[120]\ttraining's auc: 0.953709\ttraining's score: 0.830279\tvalid_1's auc: 0.907231\tvalid_1's score: 0.779141\n",
      "[140]\ttraining's auc: 0.955789\ttraining's score: 0.832381\tvalid_1's auc: 0.907353\tvalid_1's score: 0.778061\n",
      "Early stopping, best iteration is:\n",
      "[102]\ttraining's auc: 0.950175\ttraining's score: 0.827905\tvalid_1's auc: 0.909127\tvalid_1's score: 0.785224\n",
      "\t\tScore 0.7852236408213681\n",
      "\n",
      "\n",
      "\t\tBest iteration =  102\n",
      "Training with params : \n",
      "{'colsample_bytree': 0.6000000000000001, 'lambda_l1': 4.0, 'lambda_l2': 4.0, 'learning_rate': 0.17500000000000002, 'max_depth': 9, 'metric': 'auc', 'n_estimators': 2000, 'nthread': 6, 'objective': 'binary', 'scale_pos_weight': 11, 'seed': '0', 'silent': 1, 'subsample': 0.9}\n",
      "Training until validation scores don't improve for 50 rounds.\n",
      "[20]\ttraining's auc: 0.911164\ttraining's score: 0.765481\tvalid_1's auc: 0.895723\tvalid_1's score: 0.754743\n",
      "[40]\ttraining's auc: 0.936272\ttraining's score: 0.800431\tvalid_1's auc: 0.904343\tvalid_1's score: 0.776082\n",
      "[60]\ttraining's auc: 0.948283\ttraining's score: 0.816823\tvalid_1's auc: 0.905188\tvalid_1's score: 0.780587\n",
      "[80]\ttraining's auc: 0.951417\ttraining's score: 0.819176\tvalid_1's auc: 0.904923\tvalid_1's score: 0.780354\n",
      "Early stopping, best iteration is:\n",
      "[45]\ttraining's auc: 0.939439\ttraining's score: 0.807061\tvalid_1's auc: 0.905827\tvalid_1's score: 0.778988\n",
      "\t\tScore 0.7789884146708776\n",
      "\n",
      "\n",
      "\t\tBest iteration =  45\n",
      "Training with params : \n",
      "{'colsample_bytree': 0.7000000000000001, 'lambda_l1': 4.0, 'lambda_l2': 4.0, 'learning_rate': 0.125, 'max_depth': 10, 'metric': 'auc', 'n_estimators': 2000, 'nthread': 6, 'objective': 'binary', 'scale_pos_weight': 14, 'seed': '0', 'silent': 1, 'subsample': 0.8}\n",
      "Training until validation scores don't improve for 50 rounds.\n",
      "[20]\ttraining's auc: 0.899763\ttraining's score: 0.753113\tvalid_1's auc: 0.88681\tvalid_1's score: 0.737465\n",
      "[40]\ttraining's auc: 0.925925\ttraining's score: 0.787324\tvalid_1's auc: 0.898299\tvalid_1's score: 0.763935\n",
      "[60]\ttraining's auc: 0.941566\ttraining's score: 0.807438\tvalid_1's auc: 0.904148\tvalid_1's score: 0.778914\n",
      "[80]\ttraining's auc: 0.949513\ttraining's score: 0.818227\tvalid_1's auc: 0.904406\tvalid_1's score: 0.779329\n",
      "[100]\ttraining's auc: 0.957376\ttraining's score: 0.825962\tvalid_1's auc: 0.905153\tvalid_1's score: 0.781878\n",
      "[120]\ttraining's auc: 0.960403\ttraining's score: 0.829177\tvalid_1's auc: 0.904775\tvalid_1's score: 0.783525\n",
      "[140]\ttraining's auc: 0.961182\ttraining's score: 0.830808\tvalid_1's auc: 0.904699\tvalid_1's score: 0.783562\n",
      "Early stopping, best iteration is:\n",
      "[95]\ttraining's auc: 0.955888\ttraining's score: 0.823611\tvalid_1's auc: 0.905505\tvalid_1's score: 0.782436\n",
      "\t\tScore 0.7824361084058477\n",
      "\n",
      "\n",
      "\t\tBest iteration =  95\n",
      "Training with params : \n",
      "{'colsample_bytree': 1.0, 'lambda_l1': 4.0, 'lambda_l2': 6.0, 'learning_rate': 0.1, 'max_depth': 4, 'metric': 'auc', 'n_estimators': 2000, 'nthread': 6, 'objective': 'binary', 'scale_pos_weight': 13, 'seed': '0', 'silent': 1, 'subsample': 0.8}\n",
      "Training until validation scores don't improve for 50 rounds.\n",
      "[20]\ttraining's auc: 0.862877\ttraining's score: 0.680954\tvalid_1's auc: 0.854719\tvalid_1's score: 0.679809\n",
      "[40]\ttraining's auc: 0.898526\ttraining's score: 0.74207\tvalid_1's auc: 0.885692\tvalid_1's score: 0.722677\n",
      "[60]\ttraining's auc: 0.911656\ttraining's score: 0.767867\tvalid_1's auc: 0.898618\tvalid_1's score: 0.759298\n"
     ]
    },
    {
     "name": "stdout",
     "output_type": "stream",
     "text": [
      "[80]\ttraining's auc: 0.918745\ttraining's score: 0.783358\tvalid_1's auc: 0.902942\tvalid_1's score: 0.762583\n",
      "[100]\ttraining's auc: 0.924586\ttraining's score: 0.790692\tvalid_1's auc: 0.90531\tvalid_1's score: 0.766485\n",
      "[120]\ttraining's auc: 0.928657\ttraining's score: 0.798159\tvalid_1's auc: 0.906894\tvalid_1's score: 0.768756\n",
      "[140]\ttraining's auc: 0.932351\ttraining's score: 0.802671\tvalid_1's auc: 0.907488\tvalid_1's score: 0.778747\n",
      "[160]\ttraining's auc: 0.936264\ttraining's score: 0.807486\tvalid_1's auc: 0.90935\tvalid_1's score: 0.779903\n",
      "[180]\ttraining's auc: 0.938706\ttraining's score: 0.81211\tvalid_1's auc: 0.910287\tvalid_1's score: 0.780666\n",
      "[200]\ttraining's auc: 0.941502\ttraining's score: 0.815872\tvalid_1's auc: 0.910392\tvalid_1's score: 0.784197\n",
      "[220]\ttraining's auc: 0.944043\ttraining's score: 0.819531\tvalid_1's auc: 0.908635\tvalid_1's score: 0.781847\n",
      "[240]\ttraining's auc: 0.945037\ttraining's score: 0.820657\tvalid_1's auc: 0.908281\tvalid_1's score: 0.782018\n",
      "Early stopping, best iteration is:\n",
      "[190]\ttraining's auc: 0.940712\ttraining's score: 0.815261\tvalid_1's auc: 0.910521\tvalid_1's score: 0.785235\n",
      "\t\tScore 0.7852348313992702\n",
      "\n",
      "\n",
      "\t\tBest iteration =  190\n",
      "Training with params : \n",
      "{'colsample_bytree': 0.7000000000000001, 'lambda_l1': 1.0, 'lambda_l2': 1.0, 'learning_rate': 0.2, 'max_depth': 8, 'metric': 'auc', 'n_estimators': 2000, 'nthread': 6, 'objective': 'binary', 'scale_pos_weight': 23, 'seed': '0', 'silent': 1, 'subsample': 0.7000000000000001}\n",
      "Training until validation scores don't improve for 50 rounds.\n",
      "[20]\ttraining's auc: 0.90775\ttraining's score: 0.7649\tvalid_1's auc: 0.893628\tvalid_1's score: 0.753976\n",
      "[40]\ttraining's auc: 0.935007\ttraining's score: 0.801706\tvalid_1's auc: 0.905721\tvalid_1's score: 0.778138\n",
      "[60]\ttraining's auc: 0.94567\ttraining's score: 0.818264\tvalid_1's auc: 0.90801\tvalid_1's score: 0.782966\n",
      "[80]\ttraining's auc: 0.948563\ttraining's score: 0.822042\tvalid_1's auc: 0.908591\tvalid_1's score: 0.780899\n",
      "[100]\ttraining's auc: 0.94852\ttraining's score: 0.821869\tvalid_1's auc: 0.907978\tvalid_1's score: 0.781719\n",
      "Early stopping, best iteration is:\n",
      "[54]\ttraining's auc: 0.942875\ttraining's score: 0.814413\tvalid_1's auc: 0.91016\tvalid_1's score: 0.786219\n",
      "\t\tScore 0.7862193473837412\n",
      "\n",
      "\n",
      "\t\tBest iteration =  54\n",
      "Training with params : \n",
      "{'colsample_bytree': 1.0, 'lambda_l1': 3.0, 'lambda_l2': 1.0, 'learning_rate': 0.1, 'max_depth': 10, 'metric': 'auc', 'n_estimators': 2000, 'nthread': 6, 'objective': 'binary', 'scale_pos_weight': 11, 'seed': '0', 'silent': 1, 'subsample': 0.9}\n",
      "Training until validation scores don't improve for 50 rounds.\n",
      "[20]\ttraining's auc: 0.894021\ttraining's score: 0.741782\tvalid_1's auc: 0.87849\tvalid_1's score: 0.721292\n",
      "[40]\ttraining's auc: 0.921342\ttraining's score: 0.778913\tvalid_1's auc: 0.893511\tvalid_1's score: 0.758114\n",
      "[60]\ttraining's auc: 0.936364\ttraining's score: 0.797217\tvalid_1's auc: 0.899903\tvalid_1's score: 0.771781\n",
      "[80]\ttraining's auc: 0.946018\ttraining's score: 0.809971\tvalid_1's auc: 0.902987\tvalid_1's score: 0.770143\n",
      "[100]\ttraining's auc: 0.953004\ttraining's score: 0.817104\tvalid_1's auc: 0.902432\tvalid_1's score: 0.774711\n",
      "[120]\ttraining's auc: 0.958239\ttraining's score: 0.822567\tvalid_1's auc: 0.900956\tvalid_1's score: 0.774281\n",
      "[140]\ttraining's auc: 0.962209\ttraining's score: 0.827346\tvalid_1's auc: 0.900552\tvalid_1's score: 0.773\n",
      "Early stopping, best iteration is:\n",
      "[91]\ttraining's auc: 0.949713\ttraining's score: 0.813912\tvalid_1's auc: 0.903114\tvalid_1's score: 0.770725\n",
      "\t\tScore 0.7707248993500652\n",
      "\n",
      "\n",
      "\t\tBest iteration =  91\n",
      "Training with params : \n",
      "{'colsample_bytree': 0.8, 'lambda_l1': 3.0, 'lambda_l2': 5.0, 'learning_rate': 0.05, 'max_depth': 5, 'metric': 'auc', 'n_estimators': 2000, 'nthread': 6, 'objective': 'binary', 'scale_pos_weight': 23, 'seed': '0', 'silent': 1, 'subsample': 0.9}\n",
      "Training until validation scores don't improve for 50 rounds.\n",
      "[20]\ttraining's auc: 0.816645\ttraining's score: 0.601605\tvalid_1's auc: 0.806559\tvalid_1's score: 0.586473\n",
      "[40]\ttraining's auc: 0.860569\ttraining's score: 0.679201\tvalid_1's auc: 0.850049\tvalid_1's score: 0.662324\n",
      "[60]\ttraining's auc: 0.889694\ttraining's score: 0.738107\tvalid_1's auc: 0.871746\tvalid_1's score: 0.715877\n",
      "[80]\ttraining's auc: 0.905716\ttraining's score: 0.763402\tvalid_1's auc: 0.886357\tvalid_1's score: 0.73719\n",
      "[100]\ttraining's auc: 0.916884\ttraining's score: 0.777979\tvalid_1's auc: 0.896482\tvalid_1's score: 0.749745\n",
      "[120]\ttraining's auc: 0.923698\ttraining's score: 0.789315\tvalid_1's auc: 0.901529\tvalid_1's score: 0.760246\n",
      "[140]\ttraining's auc: 0.929501\ttraining's score: 0.799072\tvalid_1's auc: 0.904204\tvalid_1's score: 0.765957\n",
      "[160]\ttraining's auc: 0.934135\ttraining's score: 0.805678\tvalid_1's auc: 0.90682\tvalid_1's score: 0.773991\n",
      "[180]\ttraining's auc: 0.938302\ttraining's score: 0.810649\tvalid_1's auc: 0.909425\tvalid_1's score: 0.776653\n",
      "[200]\ttraining's auc: 0.942077\ttraining's score: 0.815435\tvalid_1's auc: 0.910948\tvalid_1's score: 0.779793\n",
      "[220]\ttraining's auc: 0.945727\ttraining's score: 0.820602\tvalid_1's auc: 0.912133\tvalid_1's score: 0.779686\n",
      "[240]\ttraining's auc: 0.948606\ttraining's score: 0.825508\tvalid_1's auc: 0.912053\tvalid_1's score: 0.778736\n",
      "[260]\ttraining's auc: 0.950986\ttraining's score: 0.828803\tvalid_1's auc: 0.912217\tvalid_1's score: 0.779829\n",
      "[280]\ttraining's auc: 0.953019\ttraining's score: 0.830683\tvalid_1's auc: 0.912631\tvalid_1's score: 0.787242\n",
      "[300]\ttraining's auc: 0.954505\ttraining's score: 0.831767\tvalid_1's auc: 0.912751\tvalid_1's score: 0.783866\n",
      "[320]\ttraining's auc: 0.956321\ttraining's score: 0.833827\tvalid_1's auc: 0.912855\tvalid_1's score: 0.78829\n",
      "[340]\ttraining's auc: 0.958136\ttraining's score: 0.835278\tvalid_1's auc: 0.913103\tvalid_1's score: 0.786751\n",
      "[360]\ttraining's auc: 0.959108\ttraining's score: 0.837594\tvalid_1's auc: 0.912801\tvalid_1's score: 0.78796\n",
      "Early stopping, best iteration is:\n",
      "[328]\ttraining's auc: 0.956855\ttraining's score: 0.835149\tvalid_1's auc: 0.912995\tvalid_1's score: 0.788679\n",
      "\t\tScore 0.7886786285212015\n",
      "\n",
      "\n",
      "\t\tBest iteration =  328\n",
      "Training with params : \n",
      "{'colsample_bytree': 0.8, 'lambda_l1': 2.0, 'lambda_l2': 3.0, 'learning_rate': 0.225, 'max_depth': 6, 'metric': 'auc', 'n_estimators': 2000, 'nthread': 6, 'objective': 'binary', 'scale_pos_weight': 13, 'seed': '0', 'silent': 1, 'subsample': 0.9}\n"
     ]
    }
   ],
   "source": [
    "#Trials object where the history of search will be stored\n",
    "trials = Trials()\n",
    "optimize(trials)"
   ]
  },
  {
   "cell_type": "code",
   "execution_count": 12,
   "metadata": {},
   "outputs": [],
   "source": [
    "best_params = {'boosting': 'gbdt', \n",
    "'objective': 'binary', \n",
    " 'metric': 'auc',\n",
    " 'colsample_bytree': 0.8,\n",
    " 'lambda_l1': 3.0,\n",
    " 'lambda_l2': 5.0,\n",
    " 'learning_rate': 0.05,\n",
    " 'max_depth': 5,\n",
    " 'scale_pos_weight': 23,\n",
    " 'subsample': 0.9,\n",
    " 'is_training_metric': False,\n",
    "  'nthread': 6,\n",
    "  'seed' : 0}"
   ]
  },
  {
   "cell_type": "code",
   "execution_count": 13,
   "metadata": {
    "scrolled": true
   },
   "outputs": [
    {
     "name": "stdout",
     "output_type": "stream",
     "text": [
      "Training until validation scores don't improve for 50 rounds.\n",
      "[10]\ttraining's auc: 0.771179\ttraining's score: 0.446321\tvalid_1's auc: 0.765805\tvalid_1's score: 0.438928\n",
      "[20]\ttraining's auc: 0.816645\ttraining's score: 0.601605\tvalid_1's auc: 0.806559\tvalid_1's score: 0.586473\n",
      "[30]\ttraining's auc: 0.851019\ttraining's score: 0.654385\tvalid_1's auc: 0.842817\tvalid_1's score: 0.649826\n",
      "[40]\ttraining's auc: 0.860569\ttraining's score: 0.679201\tvalid_1's auc: 0.850049\tvalid_1's score: 0.662324\n",
      "[50]\ttraining's auc: 0.877199\ttraining's score: 0.71473\tvalid_1's auc: 0.862129\tvalid_1's score: 0.70163\n",
      "[60]\ttraining's auc: 0.889694\ttraining's score: 0.738107\tvalid_1's auc: 0.871746\tvalid_1's score: 0.715877\n",
      "[120]\ttraining's auc: 0.923698\ttraining's score: 0.789315\tvalid_1's auc: 0.901529\tvalid_1's score: 0.760246\n",
      "[130]\ttraining's auc: 0.926487\ttraining's score: 0.794562\tvalid_1's auc: 0.903393\tvalid_1's score: 0.762089\n",
      "[140]\ttraining's auc: 0.929501\ttraining's score: 0.799072\tvalid_1's auc: 0.904204\tvalid_1's score: 0.765957\n",
      "[150]\ttraining's auc: 0.93214\ttraining's score: 0.802382\tvalid_1's auc: 0.906201\tvalid_1's score: 0.768796\n",
      "[160]\ttraining's auc: 0.934135\ttraining's score: 0.805678\tvalid_1's auc: 0.90682\tvalid_1's score: 0.773991\n",
      "[170]\ttraining's auc: 0.935863\ttraining's score: 0.808065\tvalid_1's auc: 0.907342\tvalid_1's score: 0.775426\n",
      "[180]\ttraining's auc: 0.938302\ttraining's score: 0.810649\tvalid_1's auc: 0.909425\tvalid_1's score: 0.776653\n",
      "[190]\ttraining's auc: 0.940957\ttraining's score: 0.813203\tvalid_1's auc: 0.910449\tvalid_1's score: 0.779904\n",
      "[200]\ttraining's auc: 0.942077\ttraining's score: 0.815435\tvalid_1's auc: 0.910948\tvalid_1's score: 0.779793\n",
      "[210]\ttraining's auc: 0.943817\ttraining's score: 0.817775\tvalid_1's auc: 0.911652\tvalid_1's score: 0.779794\n",
      "[220]\ttraining's auc: 0.945727\ttraining's score: 0.820602\tvalid_1's auc: 0.912133\tvalid_1's score: 0.779686\n",
      "[230]\ttraining's auc: 0.94702\ttraining's score: 0.823666\tvalid_1's auc: 0.912079\tvalid_1's score: 0.780375\n",
      "[240]\ttraining's auc: 0.948606\ttraining's score: 0.825508\tvalid_1's auc: 0.912053\tvalid_1's score: 0.778736\n",
      "[250]\ttraining's auc: 0.950059\ttraining's score: 0.827632\tvalid_1's auc: 0.912308\tvalid_1's score: 0.77972\n",
      "[260]\ttraining's auc: 0.950986\ttraining's score: 0.828803\tvalid_1's auc: 0.912217\tvalid_1's score: 0.779829\n",
      "[270]\ttraining's auc: 0.952032\ttraining's score: 0.829356\tvalid_1's auc: 0.912653\tvalid_1's score: 0.782455\n",
      "[280]\ttraining's auc: 0.953019\ttraining's score: 0.830683\tvalid_1's auc: 0.912631\tvalid_1's score: 0.787242\n",
      "[290]\ttraining's auc: 0.954142\ttraining's score: 0.831667\tvalid_1's auc: 0.912689\tvalid_1's score: 0.787132\n",
      "[300]\ttraining's auc: 0.954505\ttraining's score: 0.831767\tvalid_1's auc: 0.912751\tvalid_1's score: 0.783866\n",
      "[310]\ttraining's auc: 0.95557\ttraining's score: 0.833088\tvalid_1's auc: 0.912397\tvalid_1's score: 0.782429\n",
      "[320]\ttraining's auc: 0.956321\ttraining's score: 0.833827\tvalid_1's auc: 0.912855\tvalid_1's score: 0.78829\n",
      "[330]\ttraining's auc: 0.957159\ttraining's score: 0.835012\tvalid_1's auc: 0.913014\tvalid_1's score: 0.786176\n",
      "[340]\ttraining's auc: 0.958136\ttraining's score: 0.835278\tvalid_1's auc: 0.913103\tvalid_1's score: 0.786751\n",
      "[350]\ttraining's auc: 0.958747\ttraining's score: 0.836128\tvalid_1's auc: 0.912754\tvalid_1's score: 0.787222\n",
      "[360]\ttraining's auc: 0.959108\ttraining's score: 0.837594\tvalid_1's auc: 0.912801\tvalid_1's score: 0.78796\n",
      "[370]\ttraining's auc: 0.959483\ttraining's score: 0.838378\tvalid_1's auc: 0.912777\tvalid_1's score: 0.787259\n",
      "Early stopping, best iteration is:\n",
      "[328]\ttraining's auc: 0.956855\ttraining's score: 0.835149\tvalid_1's auc: 0.912995\tvalid_1's score: 0.788679\n"
     ]
    }
   ],
   "source": [
    "dtrain = lgb.Dataset(X_train, label = y_train, weight = w_train)\n",
    "dvalid = lgb.Dataset(X_valid, label = y_valid, weight = w_valid)\n",
    "fit_model = lgb.train( best_params, dtrain, num_boost_round = 3000, valid_sets = [dtrain, dvalid], feval = get_score, \\\n",
    "                       verbose_eval = 10, early_stopping_rounds = 50)\n"
   ]
  },
  {
   "cell_type": "code",
   "execution_count": 16,
   "metadata": {},
   "outputs": [
    {
     "name": "stdout",
     "output_type": "stream",
     "text": [
      " Best iteration =  328\n",
      "validation score =  0.7886786285212015\n",
      "train score =  0.835148607396624\n"
     ]
    },
    {
     "data": {
      "text/plain": [
       "array([0.99742913, 0.98885396, 0.97097484, 0.9829058 , 0.99499633,\n",
       "       0.97353369, 0.97339083, 0.97731266, 0.97610309, 0.99744541,\n",
       "       0.99328967, 0.97463811, 0.98768186, 0.98859473, 0.99516877,\n",
       "       0.99387499, 0.99501488, 0.97787196, 0.96813551, 0.98951552])"
      ]
     },
     "execution_count": 16,
     "metadata": {},
     "output_type": "execute_result"
    }
   ],
   "source": [
    "print( \" Best iteration = \", fit_model.best_iteration )\n",
    "\n",
    "valid_pred = fit_model.predict(X_valid, num_iteration=fit_model.best_iteration)\n",
    "print( \"validation score = \", scoring.rejection90(y_valid.values, valid_pred, sample_weight = w_valid.values))\n",
    "\n",
    "train_pred = fit_model.predict(X_train, num_iteration=fit_model.best_iteration)\n",
    "print( \"train score = \", scoring.rejection90(y_train.values, train_pred, sample_weight = w_train.values))\n",
    "\n",
    "test_pred = fit_model.predict(test_df, num_iteration=fit_model.best_iteration)\n",
    "test_pred[:20]"
   ]
  },
  {
   "cell_type": "code",
   "execution_count": 17,
   "metadata": {},
   "outputs": [
    {
     "data": {
      "text/plain": [
       "328"
      ]
     },
     "execution_count": 17,
     "metadata": {},
     "output_type": "execute_result"
    }
   ],
   "source": [
    "fit_model.best_iteration"
   ]
  },
  {
   "cell_type": "code",
   "execution_count": 18,
   "metadata": {},
   "outputs": [],
   "source": [
    "pd.DataFrame(data={\"prediction\":  test_pred}, index=test_df.index).to_csv(\n",
    "    \"../submissions/lgb_90perc_7886.csv\", index_label=utils.ID_COLUMN)"
   ]
  },
  {
   "cell_type": "code",
   "execution_count": 19,
   "metadata": {},
   "outputs": [
    {
     "data": {
      "text/plain": [
       "<lightgbm.basic.Booster at 0x7f05d0b58780>"
      ]
     },
     "execution_count": 19,
     "metadata": {},
     "output_type": "execute_result"
    }
   ],
   "source": [
    "fit_model.save_model(\"../models/track1_lgb_90perc_7886_n305.lgb\")"
   ]
  }
 ],
 "metadata": {
  "kernelspec": {
   "display_name": "Python 3",
   "language": "python",
   "name": "python3"
  },
  "language_info": {
   "codemirror_mode": {
    "name": "ipython",
    "version": 3
   },
   "file_extension": ".py",
   "mimetype": "text/x-python",
   "name": "python",
   "nbconvert_exporter": "python",
   "pygments_lexer": "ipython3",
   "version": "3.6.5"
  }
 },
 "nbformat": 4,
 "nbformat_minor": 2
}
